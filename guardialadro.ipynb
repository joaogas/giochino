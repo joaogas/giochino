{
 "cells": [
  {
   "cell_type": "markdown",
   "metadata": {},
   "source": [
    "# Problema vero"
   ]
  },
  {
   "cell_type": "markdown",
   "metadata": {},
   "source": [
    "In quanti modi posso colpire il ladro senza restare paralizzato.\n",
    "dati: dimensioni stanza (facciamo quadrata lato 1), posizione di ladro e guardia \"durata\" spaziale raggio paralizzante."
   ]
  },
  {
   "cell_type": "code",
   "execution_count": null,
   "metadata": {},
   "outputs": [],
   "source": [
    "import math\n",
    "import numpy as np\n",
    "import matplotlib.pyplot as plt"
   ]
  },
  {
   "cell_type": "markdown",
   "metadata": {},
   "source": [
    "## Dati"
   ]
  },
  {
   "cell_type": "code",
   "execution_count": 41,
   "metadata": {},
   "outputs": [],
   "source": [
    "latoS = 1 #lato stanza quadrata\n",
    "lxsx = 0.8 #posizione iniziale ladro distanza in ascissa da angolo in basso sx\n",
    "lygiu = 0.9 #posizione iniziale ladro distanza in ordinata da angolo in basso sx\n",
    "gxsx = 0.3 #posizione iniziale guardia distanza in ascissa da angolo in basso sx\n",
    "gygiu = 0.2 #posizione iniziale guardia distanza in ordinata da angolo in basso sx\n",
    "dR = 5 # massima gittata raggio paralizzante\n",
    "errore = 0.1"
   ]
  },
  {
   "cell_type": "code",
   "execution_count": 42,
   "metadata": {},
   "outputs": [],
   "source": [
    "max = 0\n",
    "gxdx = (latoS-gxsx)\n",
    "if gxsx > gxdx:\n",
    "    max = lxsx\n",
    "else:\n",
    "    max = gxdx\n",
    "Nmax = round((dR+max)/latoS) #numero massimo di anelli\n",
    "lxdx = (latoS-lxsx)\n",
    "lysu = latoS-lygiu\n",
    "gysu = latoS-gygiu"
   ]
  },
  {
   "cell_type": "code",
   "execution_count": 43,
   "metadata": {},
   "outputs": [],
   "source": [
    "def guardiaSIparalizza(colonna,riga,Xl,Yl):\n",
    "    #qui devo inserire anche se becca già il ladro ... prossimamente\n",
    "    paralizzato = False\n",
    "    if riga > Nmax:\n",
    "        ri = Nmax\n",
    "        rf = riga\n",
    "    else:\n",
    "        ri = riga\n",
    "        rf = Nmax\n",
    "    for i in range(0,colonna):\n",
    "        for j in range(ri,rf):\n",
    "            xg = G[i][j][0]\n",
    "            yg = G[i][j][1]\n",
    "            yp = ((Yl-gygiu)/(Xl-gxsx))*(xg-Xl)\n",
    "            if abs(yp-yg) < errore: paralizzato = True\n",
    "    return paralizzato"
   ]
  },
  {
   "cell_type": "code",
   "execution_count": 47,
   "metadata": {},
   "outputs": [
    {
     "name": "stdout",
     "output_type": "stream",
     "text": [
      "47\n"
     ]
    }
   ],
   "source": [
    "ly = lygiu\n",
    "for h in range(0,Nmax-1):\n",
    "    lx = lxsx-Nmax \n",
    "    Lriga = [[lx,ly]]\n",
    "    for k in range(0,2*Nmax):\n",
    "        if (k % 2 == 0):\n",
    "            dx = lxdx\n",
    "        else:\n",
    "            dx = lxsx\n",
    "        lx = lx+dx\n",
    "        x1 = [lx,ly]\n",
    "        Lriga.append(x1)\n",
    "    if (h % 2 == 0):\n",
    "        dy = lysu\n",
    "    else:\n",
    "        dy = lygiu\n",
    "    ly = ly+dy\n",
    "    if h==0: \n",
    "        L = [Lriga]\n",
    "    else:\n",
    "        L.append(Lriga)\n",
    "gy = gygiu\n",
    "for h in range(0,Nmax-1):\n",
    "    gx = gxsx-Nmax \n",
    "    Griga = [[gx,gy]]\n",
    "    for k in range(0,2*Nmax):\n",
    "        if (k % 2 == 0):\n",
    "            dx = gxdx\n",
    "        else:\n",
    "            dx = gxsx\n",
    "        gx = gx+dx\n",
    "        x1 = [gx,gy]\n",
    "        Griga.append(x1)\n",
    "    if (h % 2 == 0):\n",
    "        dy = gysu\n",
    "    else:\n",
    "        dy = gygiu\n",
    "    gy = gy+dy\n",
    "    if h==0: \n",
    "        G = [Griga]\n",
    "    else:\n",
    "        G.append(Lriga)\n",
    "# conta e controlla\n",
    "conta = 0\n",
    "for i in range(1,Nmax-2):\n",
    "    for j in range(0,2*Nmax-1):\n",
    "        tratta = math.sqrt((L[i][j][0]-gxsx)**2+(L[i][j][1]-gygiu)**2)\n",
    "        gbeccata = guardiaSIparalizza(i,j,L[i][j][0],L[i][j][1])\n",
    "        if (tratta <= dR and gbeccata == False): conta = conta+1\n",
    "conta = 2*conta\n",
    "for j in range(0,2*Nmax-1):\n",
    "        tratta = math.sqrt((L[0][j][0]-gxsx)**2+(L[0][j][1]-gygiu)**2)\n",
    "        gbeccata = guardiaSIparalizza(i,j,L[0][j][0],L[0][j][1])\n",
    "        if (tratta <= dR and gbeccata == False): conta = conta+1\n",
    "print(conta)"
   ]
  },
  {
   "cell_type": "code",
   "execution_count": null,
   "metadata": {},
   "outputs": [],
   "source": []
  }
 ],
 "metadata": {
  "kernelspec": {
   "display_name": "Python 3",
   "language": "python",
   "name": "python3"
  },
  "language_info": {
   "codemirror_mode": {
    "name": "ipython",
    "version": 3
   },
   "file_extension": ".py",
   "mimetype": "text/x-python",
   "name": "python",
   "nbconvert_exporter": "python",
   "pygments_lexer": "ipython3",
   "version": "3.7.7"
  }
 },
 "nbformat": 4,
 "nbformat_minor": 4
}
